{
  "nbformat": 4,
  "nbformat_minor": 0,
  "metadata": {
    "kernelspec": {
      "display_name": "Python 3",
      "language": "python",
      "name": "python3"
    },
    "language_info": {
      "codemirror_mode": {
        "name": "ipython",
        "version": 3
      },
      "file_extension": ".py",
      "mimetype": "text/x-python",
      "name": "python",
      "nbconvert_exporter": "python",
      "pygments_lexer": "ipython3",
      "version": "3.7.1"
    },
    "colab": {
      "name": "glove.ipynb",
      "provenance": [],
      "collapsed_sections": []
    }
  },
  "cells": [
    {
      "cell_type": "markdown",
      "metadata": {
        "id": "BvqFYlBnp6SB"
      },
      "source": [
        "### Coursework coding instructions (please also see full coursework spec)\n",
        "\n",
        "Please choose if you want to do either Task 1 or Task 2. You should write your report about one task only.\n",
        "\n",
        "For the task you choose you will need to do two approaches:\n",
        "  - Approach 1, which can use use pre-trained embeddings / models\n",
        "  - Approach 2, which should not use any pre-trained embeddings or models\n",
        "We should be able to run both approaches from the same colab file\n",
        "\n",
        "#### Running your code:\n",
        "  - Your models should run automatically when running your colab file without further intervention\n",
        "  - For each task you should automatically output the performance of both models\n",
        "  - Your code should automatically download any libraries required\n",
        "\n",
        "#### Structure of your code:\n",
        "  - You are expected to use the 'train', 'eval' and 'model_performance' functions, although you may edit these as required\n",
        "  - Otherwise there are no restrictions on what you can do in your code\n",
        "\n",
        "#### Documentation:\n",
        "  - You are expected to produce a .README file summarising how you have approached both tasks\n",
        "\n",
        "#### Reproducibility:\n",
        "  - Your .README file should explain how to replicate the different experiments mentioned in your report\n",
        "\n",
        "Good luck! We are really looking forward to seeing your reports and your model code!"
      ]
    },
    {
      "cell_type": "code",
      "metadata": {
        "id": "A8fVPbQUVGyo"
      },
      "source": [
        "# Parameters\n",
        "TWITTER = True\n",
        "ADD_ORIGINAL_DATA = True\n",
        "REMOVE_STOPWORDS = True"
      ],
      "execution_count": 22,
      "outputs": []
    },
    {
      "cell_type": "code",
      "metadata": {
        "id": "kgLa8arIp6SD",
        "colab": {
          "base_uri": "https://localhost:8080/"
        },
        "outputId": "ffbbae41-cbd7-40a8-fb72-b006dea4d83f"
      },
      "source": [
        "# You will need to download any word embeddings required for your code, e.g.:\n",
        "\n",
        "!wget -nc http://nlp.stanford.edu/data/glove.6B.zip\n",
        "!unzip -n glove.6B.zip\n",
        "!wget -nc http://nlp.stanford.edu/data/glove.twitter.27B.zip\n",
        "!unzip -n glove.twitter.27B.zip\n",
        "# For any packages that Colab does not provide auotmatically you will also need to install these below, e.g.:\n",
        "\n",
        "#! pip install torch"
      ],
      "execution_count": 23,
      "outputs": [
        {
          "output_type": "stream",
          "text": [
            "File ‘glove.6B.zip’ already there; not retrieving.\r\n",
            "\n",
            "Archive:  glove.6B.zip\n",
            "File ‘glove.twitter.27B.zip’ already there; not retrieving.\n",
            "\n",
            "Archive:  glove.twitter.27B.zip\n"
          ],
          "name": "stdout"
        }
      ]
    },
    {
      "cell_type": "code",
      "metadata": {
        "id": "FdNtrSvMp6SF"
      },
      "source": [
        "# Imports\n",
        "import torch\n",
        "import torch.nn as nn\n",
        "import pandas as pd\n",
        "import numpy as np\n",
        "import re\n",
        "from sklearn.feature_extraction.text import CountVectorizer\n",
        "from torch.utils.data import Dataset, random_split\n",
        "from sklearn.feature_extraction.text import TfidfTransformer\n",
        "from sklearn.model_selection import train_test_split\n",
        "from sklearn.linear_model import LinearRegression\n",
        "import codecs\n",
        "from nltk.corpus import stopwords\n",
        "from gensim.parsing.preprocessing import remove_stopwords\n"
      ],
      "execution_count": 24,
      "outputs": []
    },
    {
      "cell_type": "code",
      "metadata": {
        "id": "dzzCcfw-p6SF",
        "colab": {
          "base_uri": "https://localhost:8080/"
        },
        "outputId": "98590ebf-0ec8-4d82-d66e-a0e8f4863e0c"
      },
      "source": [
        "# Setting random seed and device\n",
        "SEED = 1\n",
        "\n",
        "torch.manual_seed(SEED)\n",
        "torch.cuda.manual_seed(SEED)\n",
        "torch.backends.cudnn.deterministic = True\n",
        "\n",
        "use_cuda = torch.cuda.is_available()\n",
        "device = torch.device(\"cuda:0\" if use_cuda else \"cpu\")\n",
        "print(device)"
      ],
      "execution_count": 25,
      "outputs": [
        {
          "output_type": "stream",
          "text": [
            "cuda:0\n"
          ],
          "name": "stdout"
        }
      ]
    },
    {
      "cell_type": "code",
      "metadata": {
        "id": "46OQnc_Jp6SF",
        "colab": {
          "base_uri": "https://localhost:8080/"
        },
        "outputId": "5e2ca998-a2d4-420e-dcc7-5bdd6e233638"
      },
      "source": [
        "# Load data\n",
        "!wget -nc https://cs.rochester.edu/u/nhossain/semeval-2020-task-7-dataset.zip\n",
        "!unzip -n semeval-2020-task-7-dataset.zip"
      ],
      "execution_count": 26,
      "outputs": [
        {
          "output_type": "stream",
          "text": [
            "File ‘semeval-2020-task-7-dataset.zip’ already there; not retrieving.\r\n",
            "\n",
            "Archive:  semeval-2020-task-7-dataset.zip\n"
          ],
          "name": "stdout"
        }
      ]
    },
    {
      "cell_type": "code",
      "metadata": {
        "id": "bkeBsD18M-OM"
      },
      "source": [
        "train_df = pd.read_csv('semeval-2020-task-7-dataset/subtask-1/train.csv')\r\n",
        "dev_df = pd.read_csv('semeval-2020-task-7-dataset/subtask-1/dev.csv')\r\n",
        "test_df = pd.read_csv('semeval-2020-task-7-dataset/subtask-1/test.csv')"
      ],
      "execution_count": 27,
      "outputs": []
    },
    {
      "cell_type": "code",
      "metadata": {
        "id": "m1gPXX6lp6SG"
      },
      "source": [
        "# Proportion of training data for train compared to dev\n",
        "train_proportion = 0.8"
      ],
      "execution_count": 28,
      "outputs": []
    },
    {
      "cell_type": "code",
      "metadata": {
        "id": "NuL94hsBp6SG"
      },
      "source": [
        "# We define our training loop\n",
        "def train(train_iter, dev_iter, model, number_epoch):\n",
        "    \"\"\"\n",
        "    Training loop for the model, which calls on eval to evaluate after each epoch\n",
        "    \"\"\"\n",
        "    \n",
        "    print(\"Training model.\")\n",
        "\n",
        "    for epoch in range(1, number_epoch+1):\n",
        "\n",
        "        model.train()\n",
        "        epoch_loss = 0\n",
        "        epoch_sse = 0\n",
        "        no_observations = 0  # Observations used for training so far\n",
        "\n",
        "        for batch in train_iter:\n",
        "\n",
        "            feature, target = batch\n",
        "\n",
        "            feature, target = feature.to(device), target.to(device)\n",
        "\n",
        "            # for RNN:\n",
        "            model.batch_size = target.shape[0]\n",
        "            no_observations = no_observations + target.shape[0]\n",
        "            model.hidden = model.init_hidden()\n",
        "\n",
        "            predictions = model(feature).squeeze(1)\n",
        "\n",
        "            optimizer.zero_grad()\n",
        "\n",
        "            loss = loss_fn(predictions, target)\n",
        "\n",
        "            sse, __ = model_performance(predictions.detach().cpu().numpy(), target.detach().cpu().numpy())\n",
        "\n",
        "            loss.backward()\n",
        "            optimizer.step()\n",
        "\n",
        "            epoch_loss += loss.item()*target.shape[0]\n",
        "            epoch_sse += sse\n",
        "\n",
        "        valid_loss, valid_mse, __, __ = eval(dev_iter, model)\n",
        "\n",
        "        epoch_loss, epoch_mse = epoch_loss / no_observations, epoch_sse / no_observations\n",
        "        print(f'| Epoch: {epoch:02} | Train Loss: {epoch_loss:.2f} | Train MSE: {epoch_mse:.2f} | Train RMSE: {epoch_mse**0.5:.2f} | \\\n",
        "        Val. Loss: {valid_loss:.2f} | Val. MSE: {valid_mse:.2f} |  Val. RMSE: {valid_mse**0.5:.2f} |')"
      ],
      "execution_count": 29,
      "outputs": []
    },
    {
      "cell_type": "code",
      "metadata": {
        "id": "2G7TBfYQp6SG"
      },
      "source": [
        "# We evaluate performance on our dev set\n",
        "def eval(data_iter, model):\n",
        "    \"\"\"\n",
        "    Evaluating model performance on the dev set\n",
        "    \"\"\"\n",
        "    model.eval()\n",
        "    epoch_loss = 0\n",
        "    epoch_sse = 0\n",
        "    pred_all = []\n",
        "    trg_all = []\n",
        "    no_observations = 0\n",
        "\n",
        "    with torch.no_grad():\n",
        "        for batch in data_iter:\n",
        "            feature, target = batch\n",
        "\n",
        "            feature, target = feature.to(device), target.to(device)\n",
        "\n",
        "            # for RNN:\n",
        "            model.batch_size = target.shape[0]\n",
        "            no_observations = no_observations + target.shape[0]\n",
        "            model.hidden = model.init_hidden()\n",
        "\n",
        "            predictions = model(feature).squeeze(1)\n",
        "            loss = loss_fn(predictions, target)\n",
        "\n",
        "            # We get the mse\n",
        "            pred, trg = predictions.detach().cpu().numpy(), target.detach().cpu().numpy()\n",
        "            sse, __ = model_performance(pred, trg)\n",
        "\n",
        "            epoch_loss += loss.item()*target.shape[0]\n",
        "            epoch_sse += sse\n",
        "            pred_all.extend(pred)\n",
        "            trg_all.extend(trg)\n",
        "\n",
        "    return epoch_loss/no_observations, epoch_sse/no_observations, np.array(pred_all), np.array(trg_all)"
      ],
      "execution_count": 30,
      "outputs": []
    },
    {
      "cell_type": "code",
      "metadata": {
        "id": "znb4x_qVp6SH"
      },
      "source": [
        "# How we print the model performance\n",
        "def model_performance(output, target, print_output=False):\n",
        "    \"\"\"\n",
        "    Returns SSE and MSE per batch (printing the MSE and the RMSE)\n",
        "    \"\"\"\n",
        "\n",
        "    sq_error = (output - target)**2\n",
        "\n",
        "    sse = np.sum(sq_error)\n",
        "    mse = np.mean(sq_error)\n",
        "    rmse = np.sqrt(mse)\n",
        "\n",
        "    if print_output:\n",
        "        print(f'| MSE: {mse:.2f} | RMSE: {rmse:.2f} |')\n",
        "\n",
        "    return sse, mse"
      ],
      "execution_count": 31,
      "outputs": []
    },
    {
      "cell_type": "code",
      "metadata": {
        "id": "L6NkALtrp6SH"
      },
      "source": [
        "def create_vocab(data):\n",
        "    \"\"\"\n",
        "    Creating a corpus of all the tokens used\n",
        "    \"\"\"\n",
        "    tokenized_corpus = [] # Let us put the tokenized corpus in a list\n",
        "\n",
        "    for sentence in data:\n",
        "\n",
        "        tokenized_sentence = []\n",
        "\n",
        "        for token in sentence.split(' '): # simplest split is\n",
        "            \n",
        "            # Don't count empty strinng\n",
        "            if token:\n",
        "                tokenized_sentence.append(token)\n",
        "\n",
        "        tokenized_corpus.append(tokenized_sentence)\n",
        "\n",
        "    # Create single list of all vocabulary\n",
        "    vocabulary = []  # Let us put all the tokens (mostly words) appearing in the vocabulary in a list\n",
        "    vocab_counts = {}\n",
        "\n",
        "    for sentence in tokenized_corpus:\n",
        "\n",
        "        for token in sentence:\n",
        "\n",
        "            token = token.lower()\n",
        "\n",
        "            if token not in vocabulary:\n",
        "\n",
        "                if True:\n",
        "                    vocabulary.append(token)\n",
        "                    vocab_counts[token] = 1\n",
        "            else:\n",
        "                vocab_counts[token] += 1\n",
        "\n",
        "    return vocabulary, tokenized_corpus, vocab_counts"
      ],
      "execution_count": 32,
      "outputs": []
    },
    {
      "cell_type": "code",
      "metadata": {
        "id": "4BJIxKH9p6SI"
      },
      "source": [
        "def collate_fn_padd(batch):\n",
        "    '''\n",
        "    We add padding to our minibatches and create tensors for our model\n",
        "    '''\n",
        "\n",
        "    batch_labels = [l for f, l in batch]\n",
        "    batch_features = [f for f, l in batch]\n",
        "\n",
        "    batch_features_len = [len(f) for f, l in batch]\n",
        "\n",
        "    seq_tensor = torch.zeros((len(batch), max(batch_features_len))).long()\n",
        "\n",
        "    for idx, (seq, seqlen) in enumerate(zip(batch_features, batch_features_len)):\n",
        "        seq_tensor[idx, :seqlen] = torch.LongTensor(seq)\n",
        "\n",
        "    batch_labels = torch.FloatTensor(batch_labels)\n",
        "\n",
        "    return seq_tensor, batch_labels\n",
        "\n",
        "class Task1Dataset(Dataset):\n",
        "\n",
        "    def __init__(self, train_data, labels):\n",
        "        self.x_train = train_data\n",
        "        self.y_train = labels\n",
        "\n",
        "    def __len__(self):\n",
        "        return len(self.y_train)\n",
        "\n",
        "    def __getitem__(self, item):\n",
        "        return self.x_train[item], self.y_train[item]"
      ],
      "execution_count": 33,
      "outputs": []
    },
    {
      "cell_type": "code",
      "metadata": {
        "id": "BMaSTpmip6SI"
      },
      "source": [
        "class BiLSTM(nn.Module):\n",
        "\n",
        "    def __init__(self, embedding_dim, hidden_dim, vocab_size, batch_size, device):\n",
        "        super(BiLSTM, self).__init__()\n",
        "        self.hidden_dim = hidden_dim\n",
        "        self.embedding_dim = embedding_dim\n",
        "        self.device = device\n",
        "        self.batch_size = batch_size\n",
        "        self.embedding = nn.Embedding(vocab_size, embedding_dim, padding_idx=0)\n",
        "\n",
        "        # The LSTM takes word embeddings as inputs, and outputs hidden states\n",
        "        # with dimensionality hidden_dim.\n",
        "        self.lstm = nn.LSTM(embedding_dim, hidden_dim, bidirectional=True)\n",
        "\n",
        "        # The linear layer that maps from hidden state space to tag space\n",
        "        self.hidden2label = nn.Linear(hidden_dim * 2, 1)\n",
        "        self.hidden = self.init_hidden()\n",
        "\n",
        "    def init_hidden(self):\n",
        "        # Before we've done anything, we dont have any hidden state.\n",
        "        # Refer to the Pytorch documentation to see exactly why they have this dimensionality.\n",
        "        # The axes semantics are (num_layers * num_directions, minibatch_size, hidden_dim)\n",
        "        return torch.zeros(2, self.batch_size, self.hidden_dim).to(self.device), \\\n",
        "               torch.zeros(2, self.batch_size, self.hidden_dim).to(self.device)\n",
        "\n",
        "    def forward(self, sentence):\n",
        "        embedded = self.embedding(sentence)\n",
        "        embedded = embedded.permute(1, 0, 2)\n",
        "\n",
        "        lstm_out, self.hidden = self.lstm(\n",
        "            embedded.view(len(embedded), self.batch_size, self.embedding_dim), self.hidden)\n",
        "\n",
        "        out = self.hidden2label(lstm_out[-1])\n",
        "        return out"
      ],
      "execution_count": 34,
      "outputs": []
    },
    {
      "cell_type": "code",
      "metadata": {
        "scrolled": true,
        "id": "m-V3qhdYp6SJ",
        "colab": {
          "base_uri": "https://localhost:8080/"
        },
        "outputId": "64115292-142e-4a08-a961-5954219a8655"
      },
      "source": [
        "## Approach 1 code, using functions defined above:\n",
        "\n",
        "# We set our training data and dev data\n",
        "training_data = train_df['original']\n",
        "dev_data = dev_df['original']\n",
        "\n",
        "training_edit = train_df['edit']\n",
        "dev_edit = dev_df['edit']\n",
        "\n",
        "# Remove Stop words\n",
        "if REMOVE_STOPWORDS:\n",
        "  training_data = pd.Series([ remove_stopwords(s) for s in training_data])\n",
        "  dev_data = pd.Series([remove_stopwords(s) for s in dev_data])\n",
        "\n",
        "# Perform substitutions\n",
        "training_data_original = pd.Series([re.sub('<|\\/>', '', s) for s in training_data])\n",
        "training_data_edit = pd.Series([re.sub('<.*\\/>', e, s) for s, e in zip(training_data, training_edit)])\n",
        "\n",
        "training_data = pd.concat([training_data_edit, training_data_original]) \\\n",
        "                   if ADD_ORIGINAL_DATA else training_data_edit\n",
        "\n",
        "dev_data_original = pd.Series([re.sub('<|\\/>', '', s) for s in dev_data])\n",
        "dev_data_edit = pd.Series([re.sub('<.*\\/>', e, s) for s, e in zip(dev_data, dev_edit)])\n",
        "\n",
        "dev_data = pd.concat([dev_data_edit, dev_data_original]) \\\n",
        "                if ADD_ORIGINAL_DATA else dev_data_edit\n",
        "\n",
        "all_data = pd.concat([training_data, dev_data])\n",
        "# Order of all data = [training_data_edit, training_data_original, dev_data_edit, dev_data_original]\n",
        "\n",
        "# Creating joint vocab from dev and train:\n",
        "joint_vocab, joint_tokenized_corpus, joint_vocab_counts = create_vocab(all_data)\n",
        "\n",
        "if ADD_ORIGINAL_DATA:\n",
        "  zeroes_train = [0] * len(train_df['meanGrade'])\n",
        "  zeroes_dev  = [0] * len(dev_df['meanGrade'])\n",
        "\n",
        "grades = list(train_df['meanGrade'])     # train edit graids\n",
        "if ADD_ORIGINAL_DATA:\n",
        "  grades.extend(zeroes_train)            #   + train original graids\n",
        "grades.extend(list(dev_df['meanGrade'])) #   + dev edit grades\n",
        "if ADD_ORIGINAL_DATA:\n",
        "  grades.extend(zeroes_dev)              #   + dev original graids\n",
        "\n",
        "print(\"Vocab created.\")\n",
        "print(\"Vocab size: \", len(joint_vocab))\n",
        "print(\"Data size: \", len(all_data))\n",
        "print(\"labels size: \", len(grades))"
      ],
      "execution_count": 35,
      "outputs": [
        {
          "output_type": "stream",
          "text": [
            "Vocab created.\n",
            "Vocab size:  12171\n",
            "Data size:  24142\n",
            "labels size:  24142\n"
          ],
          "name": "stdout"
        }
      ]
    },
    {
      "cell_type": "markdown",
      "metadata": {
        "id": "po60jCJqFGvy"
      },
      "source": [
        ""
      ]
    },
    {
      "cell_type": "code",
      "metadata": {
        "id": "UKFb9wS4oB0_",
        "colab": {
          "base_uri": "https://localhost:8080/"
        },
        "outputId": "0bc7323f-f291-4a91-e48f-d264819bc282"
      },
      "source": [
        "from tqdm import tqdm\r\n",
        "\r\n",
        "EMBEDDING_DIM = 200\r\n",
        "\r\n",
        "# We create representations for our tokens\r\n",
        "wvecs = [[0] * EMBEDDING_DIM] # word vectors\r\n",
        "word2idx = [('<pad>', 0)] # word2index\r\n",
        "idx2word = [(0, '<pad>')]\r\n",
        "\r\n",
        "glove_file = 'glove.twitter.27B.200d.txt' if TWITTER else 'glove.6B.200d.txt'\r\n",
        "\r\n",
        "# This is a large file, it will take a while to load in the memory!\r\n",
        "with codecs.open(glove_file, 'r','utf-8') as f:\r\n",
        "  index = 1\r\n",
        "  for line in tqdm(f.readlines()):\r\n",
        "    # Ignore the first line - first line typically contains vocab, dimensionality\r\n",
        "    if len(line.strip().split()) > 3:\r\n",
        "      word = line.strip().split()[0]\r\n",
        "      if word in joint_vocab:\r\n",
        "          (word, vec) = (word,\r\n",
        "                     list(map(float,line.strip().split()[1:])))\r\n",
        "          wvecs.append(vec)\r\n",
        "          word2idx.append((word, index))\r\n",
        "          idx2word.append((index, word))\r\n",
        "          index += 1\r\n",
        "\r\n",
        "wvecs = np.array(wvecs)\r\n",
        "word2idx = dict(word2idx)\r\n",
        "idx2word = dict(idx2word)"
      ],
      "execution_count": 36,
      "outputs": [
        {
          "output_type": "stream",
          "text": [
            "100%|██████████| 1193515/1193515 [02:23<00:00, 8292.41it/s]\n"
          ],
          "name": "stderr"
        }
      ]
    },
    {
      "cell_type": "code",
      "metadata": {
        "colab": {
          "base_uri": "https://localhost:8080/"
        },
        "id": "KrDmqWcdowXS",
        "outputId": "3e5794de-8d93-4706-868f-d26276fc3e67"
      },
      "source": [
        "def check_coverage(vocab, vocab_counts, embeddings_index):\r\n",
        "    a = {}\r\n",
        "    oov = {}\r\n",
        "    k = 0\r\n",
        "    i = 0\r\n",
        "    for word in vocab:\r\n",
        "        try:\r\n",
        "            a[word] = embeddings_index[word]\r\n",
        "            k += vocab_counts[word]\r\n",
        "        except:\r\n",
        "\r\n",
        "            oov[word] = vocab_counts[word]\r\n",
        "            i += vocab_counts[word]\r\n",
        "            pass\r\n",
        "\r\n",
        "    print('Found embeddings for {:.2%} of vocab'.format(len(a) / len(vocab)))\r\n",
        "    print('Found embeddings for  {:.2%} of all text'.format(k / (k + i)))\r\n",
        "    sorted_x = sorted(oov.items(), key=lambda x: x[1])[::-1]\r\n",
        "\r\n",
        "    return sorted_x\r\n",
        "\r\n",
        "missing_words = check_coverage(joint_vocab, joint_vocab_counts, word2idx)\r\n",
        "\r\n",
        "print(missing_words[:10])\r\n",
        "\r\n",
        "print(missing_words[-50:])"
      ],
      "execution_count": 37,
      "outputs": [
        {
          "output_type": "stream",
          "text": [
            "Found embeddings for 93.11% of vocab\n",
            "Found embeddings for  97.16% of all text\n",
            "[('manafort', 143), ('10', 136), ('2018', 132), ('tillerson', 124), ('2', 110), ('brexit', 110), ('2016', 102), ('5', 94), ('2017', 76), ('trump-russia', 76)]\n",
            "[('vellicate', 1), ('regurgitator', 1), ('handedness', 1), ('misanthropics', 1), ('haemorrhoid', 1), ('coracobrachialis', 1), ('footrace', 1), ('catawampus', 1), ('misplaces', 1), ('defenestrates', 1), ('concocts', 1), ('remarries', 1), ('myopics', 1), ('roundness', 1), ('exhumes', 1), ('ventilates', 1), ('halloweeners', 1), ('sconces', 1), ('ventral', 1), ('scuffling', 1), ('extrapolates', 1), ('hairpieces', 1), ('coherency', 1), ('believability', 1), ('philandering', 1), ('wallpapering', 1), ('compunction', 1), ('mispronunciations', 1), ('immigrating', 1), ('transtemporalize', 1), ('bagpiping', 1), ('delousing', 1), ('chauvinists', 1), ('immolating', 1), ('stupefying', 1), ('blintz', 1), ('sashays', 1), ('reanimating', 1), ('straggled', 1), ('nightgowns', 1), ('graveling', 1), ('reenactors', 1), ('canoodles', 1), ('consummated', 1), ('matzos', 1), ('orangeness', 1), ('pallbearer', 1), ('gravediggers', 1), ('jives', 1), ('microsecond', 1)]\n"
          ],
          "name": "stdout"
        }
      ]
    },
    {
      "cell_type": "code",
      "metadata": {
        "colab": {
          "base_uri": "https://localhost:8080/"
        },
        "id": "IbovbzI1k-OX",
        "outputId": "43510734-b646-4bff-b82c-07c486a2ad86"
      },
      "source": [
        "vectorized_seqs = [[word2idx[tok] for tok in seq if tok in word2idx] for seq in joint_tokenized_corpus]\r\n",
        "\r\n",
        "# To avoid any sentences being empty (if no words match to our word embeddings)\r\n",
        "vectorized_seqs = [x if len(x) > 0 else [0] for x in vectorized_seqs]\r\n",
        "\r\n",
        "INPUT_DIM = len(word2idx)\r\n",
        "BATCH_SIZE = 32\r\n",
        "\r\n",
        "# Number of epochs\r\n",
        "epochs = 50\r\n",
        "\r\n",
        "model = BiLSTM(EMBEDDING_DIM, 50, INPUT_DIM, BATCH_SIZE, device)\r\n",
        "print(\"Model initialised.\")\r\n",
        "\r\n",
        "model.to(device)\r\n",
        "# We provide the model with our embeddings\r\n",
        "model.embedding.weight.data.copy_(torch.from_numpy(wvecs))\r\n",
        "\r\n",
        "feature = vectorized_seqs\r\n",
        "\r\n",
        "# 'feature' is a list of lists, each containing embedding IDs for word tokens\r\n",
        "train_and_dev = Task1Dataset(feature, grades)\r\n",
        "\r\n",
        "train_examples = round(len(train_and_dev)*train_proportion)\r\n",
        "dev_examples = len(train_and_dev) - train_examples\r\n",
        "\r\n",
        "train_dataset, dev_dataset = random_split(train_and_dev, (train_examples, dev_examples))\r\n",
        "\r\n",
        "train_loader = torch.utils.data.DataLoader(train_dataset, shuffle=True, batch_size=BATCH_SIZE, collate_fn=collate_fn_padd)\r\n",
        "dev_loader = torch.utils.data.DataLoader(dev_dataset, batch_size=BATCH_SIZE, collate_fn=collate_fn_padd)\r\n",
        "\r\n",
        "print(\"Dataloaders created.\")\r\n",
        "\r\n",
        "loss_fn = nn.MSELoss()\r\n",
        "loss_fn = loss_fn.to(device)\r\n",
        "\r\n",
        "optimizer = torch.optim.Adam(model.parameters(), lr=3e-5)\r\n",
        "\r\n",
        "train(train_loader, dev_loader, model, epochs)"
      ],
      "execution_count": 38,
      "outputs": [
        {
          "output_type": "stream",
          "text": [
            "Model initialised.\n",
            "Dataloaders created.\n",
            "Training model.\n",
            "| Epoch: 01 | Train Loss: 0.49 | Train MSE: 0.49 | Train RMSE: 0.70 |         Val. Loss: 0.40 | Val. MSE: 0.40 |  Val. RMSE: 0.63 |\n",
            "| Epoch: 02 | Train Loss: 0.39 | Train MSE: 0.39 | Train RMSE: 0.62 |         Val. Loss: 0.38 | Val. MSE: 0.38 |  Val. RMSE: 0.62 |\n",
            "| Epoch: 03 | Train Loss: 0.37 | Train MSE: 0.37 | Train RMSE: 0.61 |         Val. Loss: 0.37 | Val. MSE: 0.37 |  Val. RMSE: 0.61 |\n",
            "| Epoch: 04 | Train Loss: 0.36 | Train MSE: 0.36 | Train RMSE: 0.60 |         Val. Loss: 0.36 | Val. MSE: 0.36 |  Val. RMSE: 0.60 |\n",
            "| Epoch: 05 | Train Loss: 0.35 | Train MSE: 0.35 | Train RMSE: 0.59 |         Val. Loss: 0.35 | Val. MSE: 0.35 |  Val. RMSE: 0.59 |\n",
            "| Epoch: 06 | Train Loss: 0.34 | Train MSE: 0.34 | Train RMSE: 0.58 |         Val. Loss: 0.35 | Val. MSE: 0.35 |  Val. RMSE: 0.59 |\n",
            "| Epoch: 07 | Train Loss: 0.33 | Train MSE: 0.33 | Train RMSE: 0.57 |         Val. Loss: 0.34 | Val. MSE: 0.34 |  Val. RMSE: 0.58 |\n",
            "| Epoch: 08 | Train Loss: 0.32 | Train MSE: 0.32 | Train RMSE: 0.56 |         Val. Loss: 0.34 | Val. MSE: 0.34 |  Val. RMSE: 0.58 |\n",
            "| Epoch: 09 | Train Loss: 0.31 | Train MSE: 0.31 | Train RMSE: 0.56 |         Val. Loss: 0.33 | Val. MSE: 0.33 |  Val. RMSE: 0.58 |\n",
            "| Epoch: 10 | Train Loss: 0.30 | Train MSE: 0.30 | Train RMSE: 0.55 |         Val. Loss: 0.33 | Val. MSE: 0.33 |  Val. RMSE: 0.58 |\n",
            "| Epoch: 11 | Train Loss: 0.30 | Train MSE: 0.30 | Train RMSE: 0.55 |         Val. Loss: 0.33 | Val. MSE: 0.33 |  Val. RMSE: 0.57 |\n",
            "| Epoch: 12 | Train Loss: 0.29 | Train MSE: 0.29 | Train RMSE: 0.54 |         Val. Loss: 0.33 | Val. MSE: 0.33 |  Val. RMSE: 0.57 |\n",
            "| Epoch: 13 | Train Loss: 0.29 | Train MSE: 0.29 | Train RMSE: 0.54 |         Val. Loss: 0.33 | Val. MSE: 0.33 |  Val. RMSE: 0.57 |\n",
            "| Epoch: 14 | Train Loss: 0.28 | Train MSE: 0.28 | Train RMSE: 0.53 |         Val. Loss: 0.32 | Val. MSE: 0.32 |  Val. RMSE: 0.57 |\n",
            "| Epoch: 15 | Train Loss: 0.28 | Train MSE: 0.28 | Train RMSE: 0.53 |         Val. Loss: 0.32 | Val. MSE: 0.32 |  Val. RMSE: 0.57 |\n",
            "| Epoch: 16 | Train Loss: 0.27 | Train MSE: 0.27 | Train RMSE: 0.52 |         Val. Loss: 0.32 | Val. MSE: 0.32 |  Val. RMSE: 0.57 |\n",
            "| Epoch: 17 | Train Loss: 0.27 | Train MSE: 0.27 | Train RMSE: 0.52 |         Val. Loss: 0.32 | Val. MSE: 0.32 |  Val. RMSE: 0.56 |\n",
            "| Epoch: 18 | Train Loss: 0.26 | Train MSE: 0.26 | Train RMSE: 0.51 |         Val. Loss: 0.32 | Val. MSE: 0.32 |  Val. RMSE: 0.56 |\n",
            "| Epoch: 19 | Train Loss: 0.26 | Train MSE: 0.26 | Train RMSE: 0.51 |         Val. Loss: 0.32 | Val. MSE: 0.32 |  Val. RMSE: 0.56 |\n",
            "| Epoch: 20 | Train Loss: 0.25 | Train MSE: 0.25 | Train RMSE: 0.50 |         Val. Loss: 0.32 | Val. MSE: 0.32 |  Val. RMSE: 0.56 |\n",
            "| Epoch: 21 | Train Loss: 0.25 | Train MSE: 0.25 | Train RMSE: 0.50 |         Val. Loss: 0.31 | Val. MSE: 0.31 |  Val. RMSE: 0.56 |\n",
            "| Epoch: 22 | Train Loss: 0.25 | Train MSE: 0.25 | Train RMSE: 0.50 |         Val. Loss: 0.31 | Val. MSE: 0.31 |  Val. RMSE: 0.56 |\n",
            "| Epoch: 23 | Train Loss: 0.24 | Train MSE: 0.24 | Train RMSE: 0.49 |         Val. Loss: 0.31 | Val. MSE: 0.31 |  Val. RMSE: 0.56 |\n",
            "| Epoch: 24 | Train Loss: 0.24 | Train MSE: 0.24 | Train RMSE: 0.49 |         Val. Loss: 0.31 | Val. MSE: 0.31 |  Val. RMSE: 0.56 |\n",
            "| Epoch: 25 | Train Loss: 0.23 | Train MSE: 0.23 | Train RMSE: 0.48 |         Val. Loss: 0.31 | Val. MSE: 0.31 |  Val. RMSE: 0.56 |\n",
            "| Epoch: 26 | Train Loss: 0.23 | Train MSE: 0.23 | Train RMSE: 0.48 |         Val. Loss: 0.31 | Val. MSE: 0.31 |  Val. RMSE: 0.56 |\n",
            "| Epoch: 27 | Train Loss: 0.23 | Train MSE: 0.23 | Train RMSE: 0.48 |         Val. Loss: 0.31 | Val. MSE: 0.31 |  Val. RMSE: 0.56 |\n",
            "| Epoch: 28 | Train Loss: 0.22 | Train MSE: 0.22 | Train RMSE: 0.47 |         Val. Loss: 0.31 | Val. MSE: 0.31 |  Val. RMSE: 0.56 |\n",
            "| Epoch: 29 | Train Loss: 0.22 | Train MSE: 0.22 | Train RMSE: 0.47 |         Val. Loss: 0.31 | Val. MSE: 0.31 |  Val. RMSE: 0.56 |\n",
            "| Epoch: 30 | Train Loss: 0.22 | Train MSE: 0.22 | Train RMSE: 0.47 |         Val. Loss: 0.31 | Val. MSE: 0.31 |  Val. RMSE: 0.56 |\n",
            "| Epoch: 31 | Train Loss: 0.22 | Train MSE: 0.22 | Train RMSE: 0.46 |         Val. Loss: 0.31 | Val. MSE: 0.31 |  Val. RMSE: 0.56 |\n",
            "| Epoch: 32 | Train Loss: 0.21 | Train MSE: 0.21 | Train RMSE: 0.46 |         Val. Loss: 0.31 | Val. MSE: 0.31 |  Val. RMSE: 0.56 |\n",
            "| Epoch: 33 | Train Loss: 0.21 | Train MSE: 0.21 | Train RMSE: 0.46 |         Val. Loss: 0.31 | Val. MSE: 0.31 |  Val. RMSE: 0.56 |\n",
            "| Epoch: 34 | Train Loss: 0.21 | Train MSE: 0.21 | Train RMSE: 0.45 |         Val. Loss: 0.31 | Val. MSE: 0.31 |  Val. RMSE: 0.56 |\n",
            "| Epoch: 35 | Train Loss: 0.20 | Train MSE: 0.20 | Train RMSE: 0.45 |         Val. Loss: 0.31 | Val. MSE: 0.31 |  Val. RMSE: 0.56 |\n",
            "| Epoch: 36 | Train Loss: 0.20 | Train MSE: 0.20 | Train RMSE: 0.45 |         Val. Loss: 0.31 | Val. MSE: 0.31 |  Val. RMSE: 0.56 |\n",
            "| Epoch: 37 | Train Loss: 0.20 | Train MSE: 0.20 | Train RMSE: 0.45 |         Val. Loss: 0.31 | Val. MSE: 0.31 |  Val. RMSE: 0.56 |\n",
            "| Epoch: 38 | Train Loss: 0.20 | Train MSE: 0.20 | Train RMSE: 0.44 |         Val. Loss: 0.31 | Val. MSE: 0.31 |  Val. RMSE: 0.56 |\n",
            "| Epoch: 39 | Train Loss: 0.19 | Train MSE: 0.19 | Train RMSE: 0.44 |         Val. Loss: 0.31 | Val. MSE: 0.31 |  Val. RMSE: 0.56 |\n",
            "| Epoch: 40 | Train Loss: 0.19 | Train MSE: 0.19 | Train RMSE: 0.44 |         Val. Loss: 0.31 | Val. MSE: 0.31 |  Val. RMSE: 0.56 |\n",
            "| Epoch: 41 | Train Loss: 0.19 | Train MSE: 0.19 | Train RMSE: 0.44 |         Val. Loss: 0.31 | Val. MSE: 0.31 |  Val. RMSE: 0.56 |\n",
            "| Epoch: 42 | Train Loss: 0.19 | Train MSE: 0.19 | Train RMSE: 0.43 |         Val. Loss: 0.31 | Val. MSE: 0.31 |  Val. RMSE: 0.56 |\n",
            "| Epoch: 43 | Train Loss: 0.19 | Train MSE: 0.19 | Train RMSE: 0.43 |         Val. Loss: 0.31 | Val. MSE: 0.31 |  Val. RMSE: 0.56 |\n",
            "| Epoch: 44 | Train Loss: 0.18 | Train MSE: 0.18 | Train RMSE: 0.43 |         Val. Loss: 0.31 | Val. MSE: 0.31 |  Val. RMSE: 0.56 |\n",
            "| Epoch: 45 | Train Loss: 0.18 | Train MSE: 0.18 | Train RMSE: 0.43 |         Val. Loss: 0.32 | Val. MSE: 0.32 |  Val. RMSE: 0.56 |\n",
            "| Epoch: 46 | Train Loss: 0.18 | Train MSE: 0.18 | Train RMSE: 0.42 |         Val. Loss: 0.31 | Val. MSE: 0.31 |  Val. RMSE: 0.56 |\n",
            "| Epoch: 47 | Train Loss: 0.18 | Train MSE: 0.18 | Train RMSE: 0.42 |         Val. Loss: 0.31 | Val. MSE: 0.31 |  Val. RMSE: 0.56 |\n",
            "| Epoch: 48 | Train Loss: 0.18 | Train MSE: 0.18 | Train RMSE: 0.42 |         Val. Loss: 0.31 | Val. MSE: 0.31 |  Val. RMSE: 0.56 |\n",
            "| Epoch: 49 | Train Loss: 0.17 | Train MSE: 0.17 | Train RMSE: 0.42 |         Val. Loss: 0.32 | Val. MSE: 0.32 |  Val. RMSE: 0.56 |\n",
            "| Epoch: 50 | Train Loss: 0.17 | Train MSE: 0.17 | Train RMSE: 0.42 |         Val. Loss: 0.32 | Val. MSE: 0.32 |  Val. RMSE: 0.56 |\n"
          ],
          "name": "stdout"
        }
      ]
    },
    {
      "cell_type": "code",
      "metadata": {
        "colab": {
          "base_uri": "https://localhost:8080/"
        },
        "id": "Z0ErbQoMmFds",
        "outputId": "aa74e2e4-2196-439f-f0ab-a8f914189069"
      },
      "source": [
        "# Test set\n",
        "test_data = test_df['original']\n",
        "test_edit = test_df['edit']\n",
        "\n",
        "test_data = pd.Series([remove_stopwords(s) for s in test_data])\n",
        "\n",
        "test_data_edit = pd.Series([re.sub('<.*\\/>', e, s) for s, e in zip(test_data, test_edit)])\n",
        "test_vocab, test_tokenized_corpus, test_vocab_counts = create_vocab(test_data_edit)\n",
        "\n",
        "vectorized_seqs = [[word2idx[tok] for tok in seq if tok in word2idx] for seq in test_tokenized_corpus]\n",
        "\n",
        "# To avoid any sentences being empty (if no words match to our word embeddings)\n",
        "vectorized_seqs = [x if len(x) > 0 else [0] for x in vectorized_seqs]\n",
        "\n",
        "INPUT_DIM = len(word2idx)\n",
        "BATCH_SIZE = 32\n",
        "\n",
        "test_dataset = Task1Dataset(vectorized_seqs, test_df[\"meanGrade\"])\n",
        "test_loader = torch.utils.data.DataLoader(test_dataset, batch_size=BATCH_SIZE, collate_fn=collate_fn_padd)\n",
        "\n",
        "loss, mse, __, __ = eval(test_loader, model)\n",
        "print(\"Test Loss: \", loss)\n",
        "print(\"Test MSE: \", mse)\n",
        "print(\"Test RMSE: \", mse**0.5)"
      ],
      "execution_count": 39,
      "outputs": [
        {
          "output_type": "stream",
          "text": [
            "Test Loss:  0.5660502775005563\n",
            "Test MSE:  0.5660502806542411\n",
            "Test RMSE:  0.7523631308445684\n"
          ],
          "name": "stdout"
        }
      ]
    }
  ]
}